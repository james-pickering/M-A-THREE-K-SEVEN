{
 "cells": [
  {
   "cell_type": "code",
   "execution_count": 6,
   "id": "1cb3c698-a237-4b7c-b6ac-13f16bdb9c6c",
   "metadata": {
    "tags": []
   },
   "outputs": [
    {
     "name": "stdout",
     "output_type": "stream",
     "text": [
      "15\n"
     ]
    }
   ],
   "source": [
    "m = 1\n",
    "n = 1\n",
    "k = 100\n",
    "total_sum = 0\n",
    "minLines = 0\n",
    "\n",
    "for x in range(k+1):\n",
    "    n += x\n",
    "    while total_sum < k+50:\n",
    "        total_sum = 0\n",
    "        i = n\n",
    "        j = m\n",
    "        while j > 0:\n",
    "            total_sum += i * j\n",
    "            i -= 1\n",
    "            j -= 1\n",
    "        if total_sum < k:\n",
    "            n += 1\n",
    "            m += 1\n",
    "        if total_sum > k:\n",
    "            n = 1\n",
    "            m = 1\n",
    "            break\n",
    "        if total_sum == k:\n",
    "            minLines = (n+1)+(m+1)\n",
    "            break\n",
    "    \n",
    "print(minLines)"
   ]
  },
  {
   "cell_type": "code",
   "execution_count": null,
   "id": "a2624c51-b2d6-4f4b-aa13-7e206f0f0c28",
   "metadata": {},
   "outputs": [],
   "source": []
  }
 ],
 "metadata": {
  "kernelspec": {
   "display_name": "Python 3 (ipykernel)",
   "language": "python",
   "name": "python3"
  },
  "language_info": {
   "codemirror_mode": {
    "name": "ipython",
    "version": 3
   },
   "file_extension": ".py",
   "mimetype": "text/x-python",
   "name": "python",
   "nbconvert_exporter": "python",
   "pygments_lexer": "ipython3",
   "version": "3.11.5"
  }
 },
 "nbformat": 4,
 "nbformat_minor": 5
}
