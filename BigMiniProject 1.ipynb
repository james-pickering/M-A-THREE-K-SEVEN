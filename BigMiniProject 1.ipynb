{
 "cells": [
  {
   "cell_type": "code",
   "execution_count": 1,
   "id": "ba4485cc-3629-454a-8b3c-c12a7be3c6d2",
   "metadata": {
    "tags": []
   },
   "outputs": [
    {
     "data": {
      "text/html": [
       "<img src=\"particle_simulation1.gif\"/>"
      ],
      "text/plain": [
       "<IPython.core.display.Image object>"
      ]
     },
     "execution_count": 1,
     "metadata": {},
     "output_type": "execute_result"
    },
    {
     "data": {
      "image/png": "[encoded data removed]",
      "text/plain": [
       "<Figure size 640x480 with 1 Axes>"
      ]
     },
     "metadata": {},
     "output_type": "display_data"
    },
    {
     "data": {
      "image/png": "[encoded data removed]",
      "text/plain": [
       "<Figure size 640x480 with 1 Axes>"
      ]
     },
     "metadata": {},
     "output_type": "display_data"
    }
   ],
   "source": [
    "import numpy as np\n",
    "import matplotlib.pyplot as plt\n",
    "from matplotlib.animation import FuncAnimation, PillowWriter\n",
    "from itertools import combinations\n",
    "import random\n",
    "\n",
    "BOX_SIZE = 100\n",
    "NUM_PARTICLES = 1\n",
    "PARTICLE_RADIUS = 2\n",
    "INITIAL_SPEED = 1\n",
    "STEPS = 200\n",
    "\n",
    "class Particle:\n",
    "    def __init__(self, species, x, y, vx, vy):\n",
    "        self.species = species\n",
    "        self.x = x\n",
    "        self.y = y\n",
    "        self.vx = vx\n",
    "        self.vy = vy\n",
    "\n",
    "particles = [Particle('A', random.uniform(PARTICLE_RADIUS, BOX_SIZE - PARTICLE_RADIUS),\n",
    "                      random.uniform(PARTICLE_RADIUS, BOX_SIZE - PARTICLE_RADIUS),\n",
    "                      INITIAL_SPEED, INITIAL_SPEED) for _ in range(NUM_PARTICLES)] + \\\n",
    "            [Particle('B', random.uniform(PARTICLE_RADIUS, BOX_SIZE - PARTICLE_RADIUS),\n",
    "                      random.uniform(PARTICLE_RADIUS, BOX_SIZE - PARTICLE_RADIUS),\n",
    "                      INITIAL_SPEED, INITIAL_SPEED) for _ in range(NUM_PARTICLES)] + \\\n",
    "            [Particle('C', random.uniform(PARTICLE_RADIUS, BOX_SIZE - PARTICLE_RADIUS),\n",
    "                      random.uniform(PARTICLE_RADIUS, BOX_SIZE - PARTICLE_RADIUS),\n",
    "                      INITIAL_SPEED, INITIAL_SPEED) for _ in range(NUM_PARTICLES)]\n",
    "\n",
    "def update_positions(particles):\n",
    "    for particle in particles:\n",
    "        particle.x += particle.vx\n",
    "        particle.y += particle.vy\n",
    "        if particle.x > BOX_SIZE - PARTICLE_RADIUS or particle.x < PARTICLE_RADIUS:\n",
    "            particle.vx *= -1\n",
    "        if particle.y > BOX_SIZE - PARTICLE_RADIUS or particle.y < PARTICLE_RADIUS:\n",
    "            particle.vy *= -1\n",
    "\n",
    "def handle_collisions(particles):\n",
    "    for p1, p2 in combinations(particles, 2):\n",
    "        distance = np.hypot(p1.x - p2.x, p1.y - p2.y)\n",
    "        if distance < 2 * PARTICLE_RADIUS:\n",
    "            if {p1.species, p2.species} == {'A', 'B'}:\n",
    "                new_species = 'C'\n",
    "            elif {p1.species, p2.species} == {'A', 'C'}:\n",
    "                new_species = 'B'\n",
    "            elif {p1.species, p2.species} == {'B', 'C'}:\n",
    "                new_species = 'A'\n",
    "            else:\n",
    "                continue\n",
    "            p1.species = new_species\n",
    "            p2.species = new_species\n",
    "\n",
    "fig, ax = plt.subplots()\n",
    "ax.set_xlim(0, BOX_SIZE)\n",
    "ax.set_ylim(0, BOX_SIZE)\n",
    "ax.set_aspect('equal')\n",
    "ax.set_xticks([])\n",
    "ax.set_yticks([])\n",
    "species_colors = {'A': 'b', 'B': 'g', 'C': 'r'}\n",
    "particles_drawing = [ax.plot([], [], 'o', ms=5, color=species_colors[particle.species])[0] for particle in particles]\n",
    "\n",
    "def init():\n",
    "    for particle_drawing in particles_drawing:\n",
    "        particle_drawing.set_data([], [])\n",
    "    return particles_drawing\n",
    "\n",
    "def animate(i):\n",
    "    update_positions(particles)\n",
    "    handle_collisions(particles)\n",
    "    for particle_drawing, particle in zip(particles_drawing, particles):\n",
    "        particle_drawing.set_data([particle.x], [particle.y])\n",
    "        particle_drawing.set_color(species_colors[particle.species])\n",
    "    return particles_drawing\n",
    "\n",
    "anim = FuncAnimation(fig, animate, init_func=init, frames=STEPS, interval=20, blit=True)\n",
    "\n",
    "# Save the animation\n",
    "animation_file_path = 'particle_simulation1.gif'\n",
    "anim.save(animation_file_path, writer=PillowWriter(fps=30))\n",
    "\n",
    "def save_final_state(particles):\n",
    "    fig, ax = plt.subplots()\n",
    "    ax.set_xlim(0, BOX_SIZE)\n",
    "    ax.set_ylim(0, BOX_SIZE)\n",
    "    ax.set_aspect('equal')\n",
    "    ax.set_xticks([])\n",
    "    ax.set_yticks([])\n",
    "    for particle in particles:\n",
    "        ax.plot(particle.x, particle.y, 'o', ms=5, color=species_colors[particle.species])\n",
    "    plt.savefig('final_state.png')\n",
    "\n",
    "save_final_state(particles)\n",
    "    \n",
    "from IPython.display import Image\n",
    "Image(url=animation_file_path)"
   ]
  },
  {
   "cell_type": "code",
   "execution_count": null,
   "id": "337ad3b9-8287-4d31-aef4-49b5891c0e15",
   "metadata": {},
   "outputs": [],
   "source": []
  }
 ],
 "metadata": {
  "kernelspec": {
   "display_name": "Python 3 (ipykernel)",
   "language": "python",
   "name": "python3"
  },
  "language_info": {
   "codemirror_mode": {
    "name": "ipython",
    "version": 3
   },
   "file_extension": ".py",
   "mimetype": "text/x-python",
   "name": "python",
   "nbconvert_exporter": "python",
   "pygments_lexer": "ipython3",
   "version": "3.11.5"
  }
 },
 "nbformat": 4,
 "nbformat_minor": 5
}
