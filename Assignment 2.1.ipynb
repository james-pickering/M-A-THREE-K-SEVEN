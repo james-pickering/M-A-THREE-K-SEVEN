{
 "cells": [
  {
   "cell_type": "code",
   "execution_count": 17,
   "id": "6885764e-8b4e-4f9c-b559-305c157aa2b4",
   "metadata": {
    "tags": []
   },
   "outputs": [
    {
     "name": "stdout",
     "output_type": "stream",
     "text": [
      "Player 0 has perfect strategy\n"
     ]
    }
   ],
   "source": [
    "import numpy as np\n",
    "import random\n",
    "\n",
    "def print_matrix(mat):\n",
    "    print(\"\\n\".join([\" \".join(['*' if cell == -1 else str(cell) for cell in row]) for row in mat]))\n",
    "    print()\n",
    "\n",
    "def is_game_over(mat):\n",
    "    return np.all(mat >= 0)\n",
    "\n",
    "def check_winner(mat):\n",
    "    det = np.linalg.det(mat)\n",
    "    return 0 if det == 0 else 1\n",
    "\n",
    "# Define the mirroring strategy based on the provided image\n",
    "def get_mirror_position(pos):\n",
    "    # Mapping positions based on the provided image\n",
    "    mapping = {\n",
    "        (0, 0): (0, 1), (0, 1): (0, 0),\n",
    "        (1, 0): (1, 1), (1, 1): (1, 0),\n",
    "        (2, 0): (2, 1), (2, 1): (2, 0),\n",
    "        (3, 0): (3, 1), (3, 1): (3, 0),\n",
    "        (0, 2): (0, 3), (0, 3): (0, 2),\n",
    "        (1, 2): (1, 3), (1, 3): (1, 2),\n",
    "        (2, 2): (2, 3), (2, 3): (2, 2),\n",
    "        (3, 2): (3, 3), (3, 3): (3, 2)\n",
    "    }\n",
    "    return mapping.get(pos, None)\n",
    "\n",
    "def player0_move(mat, last_move):\n",
    "    mirror_pos = get_mirror_position(last_move)\n",
    "    if mirror_pos and mat[mirror_pos] == -1:\n",
    "        mat[mirror_pos] = 0\n",
    "    else:\n",
    "        # If mirror position is not available or doesn't exist, choose a random available position\n",
    "        available_positions = [(i, j) for i in range(4) for j in range(4) if mat[i, j] == -1]\n",
    "        if available_positions:\n",
    "            move = random.choice(available_positions)\n",
    "            mat[move] = 0\n",
    "\n",
    "def player1_move(mat):\n",
    "    available_positions = [(i, j) for i in range(4) for j in range(4) if mat[i, j] == -1]\n",
    "    return random.choice(available_positions)\n",
    "\n",
    "N = 10000\n",
    "count = 0\n",
    "\n",
    "for i in range(N):\n",
    "    # Initialize the game\n",
    "    matrix = np.full((4, 4), -1)  # -1 represents an empty cell\n",
    "    current_player = random.randint(0,1)  # Player 1 starts\n",
    "    last_move = None\n",
    "\n",
    "    # Simulate the game\n",
    "    while not is_game_over(matrix):\n",
    "        if current_player == 1:\n",
    "            move = player1_move(matrix)\n",
    "            matrix[move] = 1\n",
    "            last_move = move\n",
    "            current_player = 0\n",
    "        else:\n",
    "            player0_move(matrix, last_move)\n",
    "            current_player = 1\n",
    "    if check_winner(matrix) == 0:\n",
    "        count += 1\n",
    "        \n",
    "if count == N:\n",
    "    print(\"Player 0 has perfect strategy\")"
   ]
  }
 ],
 "metadata": {
  "kernelspec": {
   "display_name": "Python 3 (ipykernel)",
   "language": "python",
   "name": "python3"
  },
  "language_info": {
   "codemirror_mode": {
    "name": "ipython",
    "version": 3
   },
   "file_extension": ".py",
   "mimetype": "text/x-python",
   "name": "python",
   "nbconvert_exporter": "python",
   "pygments_lexer": "ipython3",
   "version": "3.11.5"
  }
 },
 "nbformat": 4,
 "nbformat_minor": 5
}
