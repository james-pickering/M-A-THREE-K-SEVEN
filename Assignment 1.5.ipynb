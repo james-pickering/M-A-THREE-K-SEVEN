{
 "cells": [
  {
   "cell_type": "code",
   "execution_count": 10,
   "id": "fc02be50-7e10-4891-be58-3fc71add8672",
   "metadata": {
    "tags": []
   },
   "outputs": [
    {
     "name": "stdout",
     "output_type": "stream",
     "text": [
      "[[40  4]\n",
      " [20  2]\n",
      " [ 8  2]\n",
      " [ 4  2]\n",
      " [ 1  1]]\n",
      "There are 11 number bracelets in total\n"
     ]
    }
   ],
   "source": [
    "import numpy as np\n",
    "def main(m):\n",
    "\n",
    "    def bracelet(int1, int2):\n",
    "        terms = [int1, int2]\n",
    "        for n in range(2,1000):\n",
    "            temp = (int1 + int2) % m\n",
    "            int1 = int2\n",
    "            int2 = temp\n",
    "            if (int1 == terms[0] and int2 == terms[1]):\n",
    "                terms.pop(-1)\n",
    "                break\n",
    "            else:\n",
    "                terms.append(int2)\n",
    "        return np.array(terms)\n",
    "\n",
    "    seen_numbers = set()\n",
    "    unique_rows = []\n",
    "    unique_columns = []\n",
    "\n",
    "    for i in range(m):\n",
    "        for j in range(m):\n",
    "            result = bracelet(i, j).size\n",
    "            if result not in seen_numbers:\n",
    "                seen_numbers.add(result)\n",
    "                unique_rows.append([result, i, j])\n",
    "                unique_columns.append([result])\n",
    "\n",
    "    periods = np.array(unique_rows, dtype=int)\n",
    "    strictly_periods = np.array(unique_columns, dtype=int)\n",
    "    counter = np.ones_like(strictly_periods)\n",
    "    periodCounter = 0\n",
    "\n",
    "    for i in range(m):\n",
    "        for j in range(m):\n",
    "            for k in range(0, bracelet(i,j).size):\n",
    "                for l in range(0, int(periods.size/3)):\n",
    "                    if bracelet(i, j)[k-1] == periods[l,1] and bracelet(i, j)[k] == periods[l,2]:\n",
    "                        periodCounter += 1\n",
    "                        \n",
    "    extra_periods = m**2 - periodCounter\n",
    "    temp_periods = strictly_periods\n",
    "    \n",
    "    for i in range(counter.size):\n",
    "        for j in range(1000):\n",
    "            max_period = np.amax(temp_periods)\n",
    "            max_index = np.argmax(temp_periods)\n",
    "            if extra_periods >= max_period:\n",
    "                counter[i] += 1\n",
    "                extra_periods -= max_period\n",
    "            else:\n",
    "                temp_periods = np.delete(temp_periods, max_index)\n",
    "                break\n",
    "    \n",
    "    final_periods = np.sort(strictly_periods.flatten())[::-1]\n",
    "    period_array = np.zeros((counter.size, 2), dtype = int)\n",
    "    for i in range(counter.size):\n",
    "        period_array[i,0] = final_periods[i]\n",
    "        period_array[i,1] = counter[i]\n",
    "        \n",
    "    return period_array\n",
    "\n",
    "print(main(15))\n",
    "count = 0\n",
    "for i in range(int(main(15).size/2)):\n",
    "    count += main(15)[i,1] \n",
    "print(\"There are\", count, \"number bracelets in total\")"
   ]
  }
 ],
 "metadata": {
  "kernelspec": {
   "display_name": "Python 3 (ipykernel)",
   "language": "python",
   "name": "python3"
  },
  "language_info": {
   "codemirror_mode": {
    "name": "ipython",
    "version": 3
   },
   "file_extension": ".py",
   "mimetype": "text/x-python",
   "name": "python",
   "nbconvert_exporter": "python",
   "pygments_lexer": "ipython3",
   "version": "3.11.5"
  }
 },
 "nbformat": 4,
 "nbformat_minor": 5
}
