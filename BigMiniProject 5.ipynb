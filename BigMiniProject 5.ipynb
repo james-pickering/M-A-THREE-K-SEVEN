{
 "cells": [
  {
   "cell_type": "code",
   "execution_count": 5,
   "id": "dd6504d6-e526-4f76-970b-cbf7d0aaaac3",
   "metadata": {
    "tags": []
   },
   "outputs": [
    {
     "data": {
      "text/html": [
       "<img src=\"particle_simulation5.gif\"/>"
      ],
      "text/plain": [
       "<IPython.core.display.Image object>"
      ]
     },
     "execution_count": 5,
     "metadata": {},
     "output_type": "execute_result"
    },
    {
     "data": {
      "image/png": "[encoded data removed]",
      "text/plain": [
       "<Figure size 640x480 with 1 Axes>"
      ]
     },
     "metadata": {},
     "output_type": "display_data"
    },
    {
     "data": {
      "image/png": "[encoded data removed]",
      "text/plain": [
       "<Figure size 640x480 with 1 Axes>"
      ]
     },
     "metadata": {},
     "output_type": "display_data"
    }
   ],
   "source": [
    "import numpy as np\n",
    "import matplotlib.pyplot as plt\n",
    "from matplotlib.animation import FuncAnimation, PillowWriter\n",
    "from itertools import combinations\n",
    "import random\n",
    "\n",
    "# Define constants\n",
    "BOX_WIDTH = 100\n",
    "BOX_HEIGHT = 100\n",
    "NUM_PARTICLES = 3\n",
    "PARTICLE_RADIUS = 2  # Define a size for the particles\n",
    "INITIAL_SPEED = 1\n",
    "STEPS = 400\n",
    "\n",
    "# Define the Particle class\n",
    "class Particle:\n",
    "    def __init__(self, species, x, y, vx, vy):\n",
    "        self.species = species\n",
    "        self.x = x\n",
    "        self.y = y\n",
    "        self.vx = vx\n",
    "        self.vy = vy\n",
    "\n",
    "# Initialize particles with random angles\n",
    "particles = []\n",
    "species_types = ['A', 'B', 'C']  # Species types\n",
    "\n",
    "for species in species_types:\n",
    "    for _ in range(NUM_PARTICLES):\n",
    "        angle = random.uniform(0, 2 * np.pi)  # Random angle in radians for each particle\n",
    "        v_x = INITIAL_SPEED * np.cos(angle)  # Calculate velocity component in x direction\n",
    "        v_y = INITIAL_SPEED * np.sin(angle)  # Calculate velocity component in y direction\n",
    "        particle = Particle(species,\n",
    "                            random.uniform(PARTICLE_RADIUS, BOX_WIDTH - PARTICLE_RADIUS),\n",
    "                            random.uniform(PARTICLE_RADIUS, BOX_HEIGHT - PARTICLE_RADIUS),\n",
    "                            v_x, v_y)\n",
    "        particles.append(particle)\n",
    "\n",
    "# Function to update positions and handle wall collisions\n",
    "def update_positions(particles):\n",
    "    for particle in particles:\n",
    "        particle.x += particle.vx\n",
    "        particle.y += particle.vy\n",
    "        # Bounce off walls\n",
    "        if particle.x > BOX_WIDTH - PARTICLE_RADIUS or particle.x < PARTICLE_RADIUS:\n",
    "            particle.vx *= -1\n",
    "        if particle.y > BOX_HEIGHT - PARTICLE_RADIUS or particle.y < PARTICLE_RADIUS:\n",
    "            particle.vy *= -1\n",
    "\n",
    "def handle_collisions(particles):\n",
    "    for p1, p2 in combinations(particles, 2):\n",
    "        dx = p1.x - p2.x\n",
    "        dy = p1.y - p2.y\n",
    "        distance = np.hypot(dx, dy)\n",
    "\n",
    "        if distance < 2 * PARTICLE_RADIUS:  # Particles are touching\n",
    "            # Handle the collision physics\n",
    "            angle = np.arctan2(dy, dx)\n",
    "            speed1 = np.hypot(p1.vx, p1.vy)\n",
    "            speed2 = np.hypot(p2.vx, p2.vy)\n",
    "            direction1 = np.arctan2(p1.vy, p1.vx)\n",
    "            direction2 = np.arctan2(p2.vy, p2.vx)\n",
    "\n",
    "            vx1_normal = speed1 * np.cos(direction1 - angle)\n",
    "            vy1_normal = speed1 * np.sin(direction1 - angle)\n",
    "            vx2_normal = speed2 * np.cos(direction2 - angle)\n",
    "            vy2_normal = speed2 * np.sin(direction2 - angle)\n",
    "\n",
    "            p1.vx = vx2_normal * np.cos(angle) + vy1_normal * np.cos(angle + np.pi/2)\n",
    "            p1.vy = vx2_normal * np.sin(angle) + vy1_normal * np.sin(angle + np.pi/2)\n",
    "            p2.vx = vx1_normal * np.cos(angle) + vy2_normal * np.cos(angle + np.pi/2)\n",
    "            p2.vy = vx1_normal * np.sin(angle) + vy2_normal * np.sin(angle + np.pi/2)\n",
    "\n",
    "            # Change species after collision based on rules\n",
    "            if {p1.species, p2.species} == {'A', 'B'}:\n",
    "                p1.species = 'C'\n",
    "                p2.species = 'C'\n",
    "            elif {p1.species, p2.species} == {'A', 'C'}:\n",
    "                p1.species = 'B'\n",
    "                p2.species = 'B'\n",
    "            elif {p1.species, p2.species} == {'B', 'C'}:\n",
    "                p1.species = 'A'\n",
    "                p2.species = 'A'\n",
    "            # If same species collide, no change in species\n",
    "\n",
    "\n",
    "# Set up the figure, the axis, and the plot element for animation\n",
    "fig, ax = plt.subplots()\n",
    "ax.set_xlim(0, BOX_WIDTH)\n",
    "ax.set_ylim(0, BOX_HEIGHT)\n",
    "ax.set_aspect(1)\n",
    "ax.set_xticks([])  # Remove x-axis labels\n",
    "ax.set_yticks([])  # Remove y-axis labels\n",
    "species_colors = {'A': 'b', 'B': 'g', 'C': 'r'}\n",
    "particles_drawing = [ax.plot([], [], 'o', ms=5, color=species_colors[particle.species])[0] for particle in particles]\n",
    "\n",
    "# Initialization function for the animation\n",
    "def init():\n",
    "    for particle_drawing in particles_drawing:\n",
    "        particle_drawing.set_data([], [])\n",
    "    return particles_drawing\n",
    "\n",
    "# Animation update function\n",
    "def animate(i):\n",
    "    update_positions(particles)\n",
    "    handle_collisions(particles)\n",
    "    for particle_drawing, particle in zip(particles_drawing, particles):\n",
    "        particle_drawing.set_data([particle.x], [particle.y])\n",
    "        particle_drawing.set_color(species_colors[particle.species])\n",
    "    return particles_drawing\n",
    "\n",
    "# Create the animation object\n",
    "anim = FuncAnimation(fig, animate, init_func=init, frames=STEPS, interval=20, blit=True)\n",
    "\n",
    "# Save the animation\n",
    "animation_file_path = 'particle_simulation5.gif'\n",
    "anim.save(animation_file_path, writer=PillowWriter(fps=30))\n",
    "\n",
    "# After the animation is completed, plot the final state and save it as an image\n",
    "def save_final_state(particles):\n",
    "    fig, ax = plt.subplots()\n",
    "    ax.set_xlim(0, BOX_WIDTH)\n",
    "    ax.set_ylim(0, BOX_HEIGHT)\n",
    "    ax.set_aspect(1)\n",
    "    ax.set_xticks([])  # Remove x-axis labels\n",
    "    ax.set_yticks([])  # Remove y-axis labels\n",
    "    for particle in particles:\n",
    "        ax.plot(particle.x, particle.y, 'o', ms=5, color=species_colors[particle.species])\n",
    "    plt.savefig('final_state_7.png')  # Save the figure to a file\n",
    "\n",
    "# At the end of your script, after the animation has been created\n",
    "save_final_state(particles)\n",
    "    \n",
    "# To display the animation in the Jupyter Notebook\n",
    "from IPython.display import Image\n",
    "Image(url=animation_file_path)"
   ]
  },
  {
   "cell_type": "code",
   "execution_count": null,
   "id": "0d5187d0-3c5e-4e2c-9541-f2ddf64c21c6",
   "metadata": {},
   "outputs": [],
   "source": []
  }
 ],
 "metadata": {
  "kernelspec": {
   "display_name": "Python 3 (ipykernel)",
   "language": "python",
   "name": "python3"
  },
  "language_info": {
   "codemirror_mode": {
    "name": "ipython",
    "version": 3
   },
   "file_extension": ".py",
   "mimetype": "text/x-python",
   "name": "python",
   "nbconvert_exporter": "python",
   "pygments_lexer": "ipython3",
   "version": "3.11.5"
  }
 },
 "nbformat": 4,
 "nbformat_minor": 5
}
