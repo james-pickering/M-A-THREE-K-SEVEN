{
 "cells": [
  {
   "cell_type": "code",
   "execution_count": 1,
   "id": "96123ea8-09d5-4e9a-a120-3f79e3f47443",
   "metadata": {
    "tags": []
   },
   "outputs": [
    {
     "name": "stdout",
     "output_type": "stream",
     "text": [
      "[1 5 6 1 7 8 5 3 8 1 9 0 9 9 8 7 5 2 7 9 6 5 1 6 7 3 0 3 3 6 9 5 4 9 3 2 5\n",
      " 7 2 9 1 0 1 1 2 3 5 8 3 1 4 5 9 4 3 7 0 7 7 4 1 5 6 1 7 8 5 3 8 1 9 0 9 9\n",
      " 8 7 5 2 7 9 6 5 1 6 7 3 0 3 3 6 9 5 4 9 3 2 5 7 2 9]\n"
     ]
    }
   ],
   "source": [
    "import numpy as np\n",
    "def bracelet(int1, int2):\n",
    "    terms = np.zeros(100, dtype=int)\n",
    "    terms[0] = int1\n",
    "    terms[1] = int2\n",
    "    for i in range(2,100):\n",
    "        temp = (int1 + int2) % 10\n",
    "        int1 = int2\n",
    "        int2 = temp\n",
    "        terms[i] = int2\n",
    "    return terms\n",
    "\n",
    "print(bracelet(1,5))"
   ]
  }
 ],
 "metadata": {
  "kernelspec": {
   "display_name": "Python 3 (ipykernel)",
   "language": "python",
   "name": "python3"
  },
  "language_info": {
   "codemirror_mode": {
    "name": "ipython",
    "version": 3
   },
   "file_extension": ".py",
   "mimetype": "text/x-python",
   "name": "python",
   "nbconvert_exporter": "python",
   "pygments_lexer": "ipython3",
   "version": "3.11.5"
  }
 },
 "nbformat": 4,
 "nbformat_minor": 5
}
