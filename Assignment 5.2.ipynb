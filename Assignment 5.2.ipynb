{
 "cells": [
  {
   "cell_type": "code",
   "execution_count": 1,
   "id": "4dec61e4-be3b-4dff-a52f-4904146d2672",
   "metadata": {
    "tags": []
   },
   "outputs": [
    {
     "data": {
      "text/plain": [
       "(29, 42)"
      ]
     },
     "execution_count": 1,
     "metadata": {},
     "output_type": "execute_result"
    }
   ],
   "source": [
    "from sympy import isprime\n",
    "\n",
    "def quad1(n):\n",
    "    return 4*n**2 + 3\n",
    "\n",
    "def quad2(n):\n",
    "    return 4*n**2 + 4*n - 1\n",
    "\n",
    "def prime_percentage(quad_func):\n",
    "    prime_count = sum(isprime(quad_func(n)) for n in range(1, 101))\n",
    "    return prime_count\n",
    "\n",
    "percentage_quad1 = prime_percentage(quad1)\n",
    "percentage_quad2 = prime_percentage(quad2)\n",
    "\n",
    "percentage_quad1, percentage_quad2"
   ]
  }
 ],
 "metadata": {
  "kernelspec": {
   "display_name": "Python 3 (ipykernel)",
   "language": "python",
   "name": "python3"
  },
  "language_info": {
   "codemirror_mode": {
    "name": "ipython",
    "version": 3
   },
   "file_extension": ".py",
   "mimetype": "text/x-python",
   "name": "python",
   "nbconvert_exporter": "python",
   "pygments_lexer": "ipython3",
   "version": "3.11.5"
  }
 },
 "nbformat": 4,
 "nbformat_minor": 5
}
