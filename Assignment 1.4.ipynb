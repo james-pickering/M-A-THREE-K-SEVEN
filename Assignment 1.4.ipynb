{
 "cells": [
  {
   "cell_type": "code",
   "execution_count": 1,
   "id": "ae8f0816-7901-47e3-ac6c-7d79b6d6a0d2",
   "metadata": {
    "tags": []
   },
   "outputs": [
    {
     "name": "stdout",
     "output_type": "stream",
     "text": [
      "1 : True\n",
      "2 : True\n",
      "3 : True\n",
      "4 : False\n",
      "5 : True\n",
      "6 : True\n",
      "7 : False\n",
      "8 : False\n",
      "9 : False\n",
      "10 : True\n"
     ]
    }
   ],
   "source": [
    "import numpy as np\n",
    "def main(m):\n",
    "\n",
    "    def bracelet(int1, int2):\n",
    "        terms = [int1, int2]\n",
    "        for n in range(2,1000):\n",
    "            temp = (int1 + int2) % m\n",
    "            int1 = int2\n",
    "            int2 = temp\n",
    "            if (int1 == terms[0] and int2 == terms[1]):\n",
    "                terms.pop(-1)\n",
    "                break\n",
    "            else:\n",
    "                terms.append(int2)\n",
    "        return np.array(terms)\n",
    "\n",
    "    seen_numbers = set()\n",
    "    unique_rows = []\n",
    "\n",
    "    for i in range(m):\n",
    "        for j in range(m):\n",
    "            result = bracelet(i, j).size\n",
    "            if result not in seen_numbers:\n",
    "                seen_numbers.add(result)\n",
    "                unique_rows.append([result, i, j])\n",
    "\n",
    "    periods = np.array(unique_rows, dtype=int)\n",
    "    periodCounter = 0\n",
    "\n",
    "    for i in range(m):\n",
    "        for j in range(m):\n",
    "            for k in range(0, bracelet(i,j).size):\n",
    "                for l in range(0, int(periods.size/3)):\n",
    "                    if bracelet(i, j)[k-1] == periods[l,1] and bracelet(i, j)[k] == periods[l,2]:\n",
    "                        periodCounter += 1\n",
    "                        \n",
    "    if periodCounter == m**2:\n",
    "        return True\n",
    "    else:\n",
    "        return False\n",
    "    \n",
    "for i in range(1,11):\n",
    "    print(i, \":\", main(i))"
   ]
  }
 ],
 "metadata": {
  "kernelspec": {
   "display_name": "Python 3 (ipykernel)",
   "language": "python",
   "name": "python3"
  },
  "language_info": {
   "codemirror_mode": {
    "name": "ipython",
    "version": 3
   },
   "file_extension": ".py",
   "mimetype": "text/x-python",
   "name": "python",
   "nbconvert_exporter": "python",
   "pygments_lexer": "ipython3",
   "version": "3.11.5"
  }
 },
 "nbformat": 4,
 "nbformat_minor": 5
}
