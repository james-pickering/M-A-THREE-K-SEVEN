{
 "cells": [
  {
   "cell_type": "code",
   "execution_count": 1,
   "id": "42a5ec71-0090-4498-b2b3-ee6c18d90f17",
   "metadata": {
    "tags": []
   },
   "outputs": [
    {
     "data": {
      "text/plain": [
       "{3: 0.75, 4: 0.625, 5: 0.6875}"
      ]
     },
     "execution_count": 1,
     "metadata": {},
     "output_type": "execute_result"
    }
   ],
   "source": [
    "def P(n, memo):\n",
    "    if n in memo:\n",
    "        return memo[n]\n",
    "    if n == 1:\n",
    "        return 1\n",
    "    else:\n",
    "        memo[n] = 1 - (0.5 * P(n-1, memo))\n",
    "        return memo[n]\n",
    "\n",
    "memo = {}\n",
    "\n",
    "probabilities = {n: P(n, memo) for n in range(3, 6)}\n",
    "probabilities"
   ]
  }
 ],
 "metadata": {
  "kernelspec": {
   "display_name": "Python 3 (ipykernel)",
   "language": "python",
   "name": "python3"
  },
  "language_info": {
   "codemirror_mode": {
    "name": "ipython",
    "version": 3
   },
   "file_extension": ".py",
   "mimetype": "text/x-python",
   "name": "python",
   "nbconvert_exporter": "python",
   "pygments_lexer": "ipython3",
   "version": "3.11.5"
  }
 },
 "nbformat": 4,
 "nbformat_minor": 5
}
