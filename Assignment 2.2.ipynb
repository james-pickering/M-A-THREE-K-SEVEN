{
 "cells": [
  {
   "cell_type": "code",
   "execution_count": 1,
   "id": "c60025f3-5a28-4ef1-80b9-62211b2b4600",
   "metadata": {
    "tags": []
   },
   "outputs": [
    {
     "name": "stdout",
     "output_type": "stream",
     "text": [
      "* * * * *\n",
      "* * * * *\n",
      "* * * * *\n",
      "* * * * *\n",
      "* * * * *\n",
      "\n",
      "Available positions: [(0, 0), (0, 1), (0, 2), (0, 3), (0, 4), (1, 0), (1, 1), (1, 2), (1, 3), (1, 4), (2, 0), (2, 1), (2, 2), (2, 3), (2, 4), (3, 0), (3, 1), (3, 2), (3, 3), (3, 4), (4, 0), (4, 1), (4, 2), (4, 3), (4, 4)]\n"
     ]
    },
    {
     "name": "stdin",
     "output_type": "stream",
     "text": [
      "Enter your move as row,col (e.g., 1,2):  0,0\n"
     ]
    },
    {
     "name": "stdout",
     "output_type": "stream",
     "text": [
      "1 * * * *\n",
      "* * * * *\n",
      "* * * * *\n",
      "* * * * *\n",
      "* * * * *\n",
      "\n",
      "1 0 * * *\n",
      "* * * * *\n",
      "* * * * *\n",
      "* * * * *\n",
      "* * * * *\n",
      "\n",
      "Available positions: [(0, 2), (0, 3), (0, 4), (1, 0), (1, 1), (1, 2), (1, 3), (1, 4), (2, 0), (2, 1), (2, 2), (2, 3), (2, 4), (3, 0), (3, 1), (3, 2), (3, 3), (3, 4), (4, 0), (4, 1), (4, 2), (4, 3), (4, 4)]\n"
     ]
    },
    {
     "name": "stdin",
     "output_type": "stream",
     "text": [
      "Enter your move as row,col (e.g., 1,2):  0,2\n"
     ]
    },
    {
     "name": "stdout",
     "output_type": "stream",
     "text": [
      "1 0 1 * *\n",
      "* * * * *\n",
      "* * * * *\n",
      "* * * * *\n",
      "* * * * *\n",
      "\n",
      "1 0 1 0 *\n",
      "* * * * *\n",
      "* * * * *\n",
      "* * * * *\n",
      "* * * * *\n",
      "\n",
      "Available positions: [(0, 4), (1, 0), (1, 1), (1, 2), (1, 3), (1, 4), (2, 0), (2, 1), (2, 2), (2, 3), (2, 4), (3, 0), (3, 1), (3, 2), (3, 3), (3, 4), (4, 0), (4, 1), (4, 2), (4, 3), (4, 4)]\n"
     ]
    },
    {
     "name": "stdin",
     "output_type": "stream",
     "text": [
      "Enter your move as row,col (e.g., 1,2):  0,4\n"
     ]
    },
    {
     "name": "stdout",
     "output_type": "stream",
     "text": [
      "1 0 1 0 1\n",
      "* * * * *\n",
      "* * * * *\n",
      "* * * * *\n",
      "* * * * *\n",
      "\n",
      "1 0 1 0 1\n",
      "* * * * 0\n",
      "* * * * *\n",
      "* * * * *\n",
      "* * * * *\n",
      "\n",
      "Available positions: [(1, 0), (1, 1), (1, 2), (1, 3), (2, 0), (2, 1), (2, 2), (2, 3), (2, 4), (3, 0), (3, 1), (3, 2), (3, 3), (3, 4), (4, 0), (4, 1), (4, 2), (4, 3), (4, 4)]\n"
     ]
    },
    {
     "name": "stdin",
     "output_type": "stream",
     "text": [
      "Enter your move as row,col (e.g., 1,2):  1,2\n"
     ]
    },
    {
     "name": "stdout",
     "output_type": "stream",
     "text": [
      "1 0 1 0 1\n",
      "* * 1 * 0\n",
      "* * * * *\n",
      "* * * * *\n",
      "* * * * *\n",
      "\n",
      "1 0 1 0 1\n",
      "* * 1 0 0\n",
      "* * * * *\n",
      "* * * * *\n",
      "* * * * *\n",
      "\n",
      "Available positions: [(1, 0), (1, 1), (2, 0), (2, 1), (2, 2), (2, 3), (2, 4), (3, 0), (3, 1), (3, 2), (3, 3), (3, 4), (4, 0), (4, 1), (4, 2), (4, 3), (4, 4)]\n"
     ]
    },
    {
     "name": "stdin",
     "output_type": "stream",
     "text": [
      "Enter your move as row,col (e.g., 1,2):  2,0\n"
     ]
    },
    {
     "name": "stdout",
     "output_type": "stream",
     "text": [
      "1 0 1 0 1\n",
      "* * 1 0 0\n",
      "1 * * * *\n",
      "* * * * *\n",
      "* * * * *\n",
      "\n",
      "1 0 1 0 1\n",
      "* * 1 0 0\n",
      "1 0 * * *\n",
      "* * * * *\n",
      "* * * * *\n",
      "\n",
      "Available positions: [(1, 0), (1, 1), (2, 2), (2, 3), (2, 4), (3, 0), (3, 1), (3, 2), (3, 3), (3, 4), (4, 0), (4, 1), (4, 2), (4, 3), (4, 4)]\n"
     ]
    },
    {
     "name": "stdin",
     "output_type": "stream",
     "text": [
      "Enter your move as row,col (e.g., 1,2):  2,2\n"
     ]
    },
    {
     "name": "stdout",
     "output_type": "stream",
     "text": [
      "1 0 1 0 1\n",
      "* * 1 0 0\n",
      "1 0 1 * *\n",
      "* * * * *\n",
      "* * * * *\n",
      "\n",
      "1 0 1 0 1\n",
      "* * 1 0 0\n",
      "1 0 1 0 *\n",
      "* * * * *\n",
      "* * * * *\n",
      "\n",
      "Available positions: [(1, 0), (1, 1), (2, 4), (3, 0), (3, 1), (3, 2), (3, 3), (3, 4), (4, 0), (4, 1), (4, 2), (4, 3), (4, 4)]\n"
     ]
    },
    {
     "name": "stdin",
     "output_type": "stream",
     "text": [
      "Enter your move as row,col (e.g., 1,2):  3,3\n"
     ]
    },
    {
     "name": "stdout",
     "output_type": "stream",
     "text": [
      "1 0 1 0 1\n",
      "* * 1 0 0\n",
      "1 0 1 0 *\n",
      "* * * 1 *\n",
      "* * * * *\n",
      "\n",
      "1 0 1 0 1\n",
      "* * 1 0 0\n",
      "1 0 1 0 *\n",
      "* * 0 1 *\n",
      "* * * * *\n",
      "\n",
      "Available positions: [(1, 0), (1, 1), (2, 4), (3, 0), (3, 1), (3, 4), (4, 0), (4, 1), (4, 2), (4, 3), (4, 4)]\n"
     ]
    },
    {
     "name": "stdin",
     "output_type": "stream",
     "text": [
      "Enter your move as row,col (e.g., 1,2):  3,0\n"
     ]
    },
    {
     "name": "stdout",
     "output_type": "stream",
     "text": [
      "1 0 1 0 1\n",
      "* * 1 0 0\n",
      "1 0 1 0 *\n",
      "1 * 0 1 *\n",
      "* * * * *\n",
      "\n",
      "1 0 1 0 1\n",
      "* * 1 0 0\n",
      "1 0 1 0 *\n",
      "1 0 0 1 *\n",
      "* * * * *\n",
      "\n",
      "Available positions: [(1, 0), (1, 1), (2, 4), (3, 4), (4, 0), (4, 1), (4, 2), (4, 3), (4, 4)]\n"
     ]
    },
    {
     "name": "stdin",
     "output_type": "stream",
     "text": [
      "Enter your move as row,col (e.g., 1,2):  2,4\n"
     ]
    },
    {
     "name": "stdout",
     "output_type": "stream",
     "text": [
      "1 0 1 0 1\n",
      "* * 1 0 0\n",
      "1 0 1 0 1\n",
      "1 0 0 1 *\n",
      "* * * * *\n",
      "\n",
      "1 0 1 0 1\n",
      "* * 1 0 0\n",
      "1 0 1 0 1\n",
      "1 0 0 1 0\n",
      "* * * * *\n",
      "\n",
      "Available positions: [(1, 0), (1, 1), (4, 0), (4, 1), (4, 2), (4, 3), (4, 4)]\n"
     ]
    },
    {
     "name": "stdin",
     "output_type": "stream",
     "text": [
      "Enter your move as row,col (e.g., 1,2):  4,3\n"
     ]
    },
    {
     "name": "stdout",
     "output_type": "stream",
     "text": [
      "1 0 1 0 1\n",
      "* * 1 0 0\n",
      "1 0 1 0 1\n",
      "1 0 0 1 0\n",
      "* * * 1 *\n",
      "\n",
      "1 0 1 0 1\n",
      "* * 1 0 0\n",
      "1 0 1 0 1\n",
      "1 0 0 1 0\n",
      "* * 0 1 *\n",
      "\n",
      "Available positions: [(1, 0), (1, 1), (4, 0), (4, 1), (4, 4)]\n"
     ]
    },
    {
     "name": "stdin",
     "output_type": "stream",
     "text": [
      "Enter your move as row,col (e.g., 1,2):  4,1\n"
     ]
    },
    {
     "name": "stdout",
     "output_type": "stream",
     "text": [
      "1 0 1 0 1\n",
      "* * 1 0 0\n",
      "1 0 1 0 1\n",
      "1 0 0 1 0\n",
      "* 1 0 1 *\n",
      "\n",
      "1 0 1 0 1\n",
      "* * 1 0 0\n",
      "1 0 1 0 1\n",
      "1 0 0 1 0\n",
      "0 1 0 1 *\n",
      "\n",
      "Available positions: [(1, 0), (1, 1), (4, 4)]\n"
     ]
    },
    {
     "name": "stdin",
     "output_type": "stream",
     "text": [
      "Enter your move as row,col (e.g., 1,2):  4,4\n"
     ]
    },
    {
     "name": "stdout",
     "output_type": "stream",
     "text": [
      "1 0 1 0 1\n",
      "* * 1 0 0\n",
      "1 0 1 0 1\n",
      "1 0 0 1 0\n",
      "0 1 0 1 1\n",
      "\n",
      "1 0 1 0 1\n",
      "* * 1 0 0\n",
      "1 0 1 0 1\n",
      "1 0 0 1 0\n",
      "0 1 0 1 1\n",
      "\n",
      "Available positions: [(1, 0), (1, 1)]\n"
     ]
    },
    {
     "name": "stdin",
     "output_type": "stream",
     "text": [
      "Enter your move as row,col (e.g., 1,2):  1,1\n"
     ]
    },
    {
     "name": "stdout",
     "output_type": "stream",
     "text": [
      "1 0 1 0 1\n",
      "* 1 1 0 0\n",
      "1 0 1 0 1\n",
      "1 0 0 1 0\n",
      "0 1 0 1 1\n",
      "\n",
      "1 0 1 0 1\n",
      "0 1 1 0 0\n",
      "1 0 1 0 1\n",
      "1 0 0 1 0\n",
      "0 1 0 1 1\n",
      "\n",
      "Computer (Player 0) wins!\n"
     ]
    }
   ],
   "source": [
    "import numpy as np\n",
    "import random\n",
    "\n",
    "n = 5\n",
    "\n",
    "def print_matrix(mat):\n",
    "    print(\"\\n\".join([\" \".join(['*' if cell == -1 else str(cell) for cell in row]) for row in mat]))\n",
    "    print()\n",
    "\n",
    "def is_game_over(mat):\n",
    "    return np.all(mat >= 0)\n",
    "\n",
    "def check_winner(mat):\n",
    "    det = np.linalg.det(mat)\n",
    "    return 0 if det == 0 else 1\n",
    "\n",
    "def generate_mirror_mapping(n):\n",
    "    adjusted_n = n if n % 2 == 0 else n - 1\n",
    "\n",
    "    mapping = {}\n",
    "    for i in range(n):  # Still iterate over all rows\n",
    "        for j in range(0, adjusted_n, 2):\n",
    "            mapping[(i, j)] = (i, j + 1)\n",
    "            mapping[(i, j + 1)] = (i, j)\n",
    "\n",
    "    return mapping\n",
    "\n",
    "def get_mirror_position(pos):\n",
    "    mapping = generate_mirror_mapping(n)\n",
    "    return mapping.get(pos, None)\n",
    "\n",
    "def player0_move_three(mat):\n",
    "    if np.count_nonzero(mat == -1) == 9:\n",
    "        return (1, 1)\n",
    "    elif np.count_nonzero(mat == -1) == 8:\n",
    "        return (1, 1)\n",
    "    else:\n",
    "        for i in range(3):\n",
    "            for j in range(3):\n",
    "                if mat[i, j] == -1:\n",
    "                    mat_copy = mat.copy()\n",
    "                    mat_copy[i, j] = 0\n",
    "                    if np.linalg.det(mat_copy) == 0:\n",
    "                        return (i, j)\n",
    "        options = [(i, j) for i in range(3) for j in range(3) if mat[i, j] == -1]\n",
    "        return random.choice(options)\n",
    "    \n",
    "def player0_move_even(mat, last_move):\n",
    "    mirror_pos = get_mirror_position(last_move)\n",
    "    if mirror_pos and mat[mirror_pos] == -1:\n",
    "        mat[mirror_pos] = 0\n",
    "    else:\n",
    "        available_positions = [(i, j) for i in range(n) for j in range(n) if mat[i, j] == -1]\n",
    "        if available_positions:\n",
    "            move = random.choice(available_positions)\n",
    "            mat[move] = 0\n",
    "            \n",
    "def player0_move_odd(mat, last_move):\n",
    "    if last_move is None:\n",
    "        available_positions = [(i, j) for i in range(n) for j in range(n) if mat[i, j] == -1]\n",
    "        move = random.choice(available_positions)\n",
    "        mat[move] = 0\n",
    "        return move\n",
    "    \n",
    "    i, j = last_move\n",
    "    single_column_index = n - 1\n",
    "\n",
    "    if j == single_column_index:\n",
    "        if -1 in mat[:, single_column_index]:\n",
    "            mat[np.where(mat[:, single_column_index] == -1)[0][0], single_column_index] = 0\n",
    "            return True\n",
    "    \n",
    "    elif j < single_column_index:\n",
    "        if j % 2 == 0 and mat[i][j + 1] == -1:\n",
    "            mat[i, j + 1] = 0\n",
    "        elif j % 2 == 1 and mat[i][j - 1] == -1:\n",
    "            mat[i, j - 1] = 0\n",
    "        else:\n",
    "            available_positions = [(x, y) for x in range(n) for y in range(single_column_index) if mat[x, y] == -1]\n",
    "            if available_positions:\n",
    "                move = random.choice(available_positions)\n",
    "                mat[move] = 0\n",
    "            else:\n",
    "                return False\n",
    "        return True\n",
    "\n",
    "    else:\n",
    "        available_positions = [(x, y) for x in range(n) for y in range(n) if mat[x, y] == -1 and y != single_column_index]\n",
    "        if available_positions:\n",
    "            move = random.choice(available_positions)\n",
    "            mat[move] = 0\n",
    "            return True\n",
    "\n",
    "    return False  # No move made\n",
    "\n",
    "def player1_move(mat):\n",
    "    available_positions = [(i, j) for i in range(n) for j in range(n) if mat[i, j] == -1]\n",
    "    print(f\"Available positions: {available_positions}\")\n",
    "    move = input(\"Enter your move as row,col (e.g., 1,2): \")\n",
    "    i, j = map(int, move.split(','))\n",
    "    return (i, j)\n",
    "\n",
    "matrix = np.full((n, n), -1)\n",
    "current_player = 1\n",
    "last_move = None\n",
    "\n",
    "while not is_game_over(matrix):\n",
    "    print_matrix(matrix)\n",
    "    if current_player == 1:\n",
    "        i, j = player1_move(matrix)\n",
    "        matrix[i, j] = 1\n",
    "        last_move = (i, j)\n",
    "        current_player = 0\n",
    "    else:\n",
    "        if n % 2 == 0:\n",
    "            player0_move_even(matrix, last_move)\n",
    "        else:\n",
    "            player0_move_odd(matrix, last_move)\n",
    "        current_player = 1\n",
    "\n",
    "print_matrix(matrix)\n",
    "winner = check_winner(matrix)\n",
    "if winner == 0:\n",
    "    print(\"Computer (Player 0) wins!\")\n",
    "else:\n",
    "    print(\"You (Player 1) win!\")"
   ]
  },
  {
   "cell_type": "code",
   "execution_count": null,
   "id": "d904a692-943b-4309-af82-2c11338af6ba",
   "metadata": {},
   "outputs": [],
   "source": []
  }
 ],
 "metadata": {
  "kernelspec": {
   "display_name": "Python 3 (ipykernel)",
   "language": "python",
   "name": "python3"
  },
  "language_info": {
   "codemirror_mode": {
    "name": "ipython",
    "version": 3
   },
   "file_extension": ".py",
   "mimetype": "text/x-python",
   "name": "python",
   "nbconvert_exporter": "python",
   "pygments_lexer": "ipython3",
   "version": "3.11.5"
  }
 },
 "nbformat": 4,
 "nbformat_minor": 5
}
