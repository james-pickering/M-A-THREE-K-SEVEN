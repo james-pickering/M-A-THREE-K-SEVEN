{
 "cells": [
  {
   "cell_type": "code",
   "execution_count": 1,
   "id": "e59c5e79-a87a-4bc8-b3dd-1a961499e534",
   "metadata": {
    "tags": []
   },
   "outputs": [
    {
     "data": {
      "text/plain": [
       "{1: 1,\n",
       " 2: 0.5,\n",
       " 3: 0.75,\n",
       " 4: 0.625,\n",
       " 5: 0.6875,\n",
       " 6: 0.65625,\n",
       " 7: 0.671875,\n",
       " 8: 0.6640625,\n",
       " 9: 0.66796875,\n",
       " 10: 0.666015625,\n",
       " 11: 0.6669921875,\n",
       " 12: 0.66650390625,\n",
       " 13: 0.666748046875,\n",
       " 14: 0.6666259765625,\n",
       " 15: 0.66668701171875,\n",
       " 16: 0.666656494140625,\n",
       " 17: 0.6666717529296875,\n",
       " 18: 0.6666641235351562,\n",
       " 19: 0.6666679382324219,\n",
       " 20: 0.6666660308837891,\n",
       " 21: 0.6666669845581055,\n",
       " 22: 0.6666665077209473,\n",
       " 23: 0.6666667461395264,\n",
       " 24: 0.6666666269302368,\n",
       " 25: 0.6666666865348816}"
      ]
     },
     "execution_count": 1,
     "metadata": {},
     "output_type": "execute_result"
    }
   ],
   "source": [
    "def P(n, memo):\n",
    "    if n in memo:\n",
    "        return memo[n]\n",
    "    if n == 1:\n",
    "        return 1\n",
    "    else:\n",
    "        memo[n] = 1 - (0.5 * P(n-1, memo))\n",
    "        return memo[n]\n",
    "\n",
    "memo = {}\n",
    "\n",
    "probabilities = {n: P(n, memo) for n in range(1, 26)}\n",
    "probabilities"
   ]
  }
 ],
 "metadata": {
  "kernelspec": {
   "display_name": "Python 3 (ipykernel)",
   "language": "python",
   "name": "python3"
  },
  "language_info": {
   "codemirror_mode": {
    "name": "ipython",
    "version": 3
   },
   "file_extension": ".py",
   "mimetype": "text/x-python",
   "name": "python",
   "nbconvert_exporter": "python",
   "pygments_lexer": "ipython3",
   "version": "3.11.5"
  }
 },
 "nbformat": 4,
 "nbformat_minor": 5
}
