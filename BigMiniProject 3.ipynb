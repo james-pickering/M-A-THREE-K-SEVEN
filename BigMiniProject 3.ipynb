{
 "cells": [
  {
   "cell_type": "code",
   "execution_count": 1,
   "id": "f2608076-0ee9-42d9-ad86-298dfc50c4ca",
   "metadata": {
    "tags": []
   },
   "outputs": [
    {
     "ename": "IndexError",
     "evalue": "list index out of range",
     "output_type": "error",
     "traceback": [
      "\u001b[1;31m---------------------------------------------------------------------------\u001b[0m",
      "\u001b[1;31mNameError\u001b[0m                                 Traceback (most recent call last)",
      "File \u001b[1;32m~\\anaconda3\\Lib\\site-packages\\matplotlib\\animation.py:233\u001b[0m, in \u001b[0;36mAbstractMovieWriter.saving\u001b[1;34m(self, fig, outfile, dpi, *args, **kwargs)\u001b[0m\n\u001b[0;32m    232\u001b[0m \u001b[38;5;28;01mtry\u001b[39;00m:\n\u001b[1;32m--> 233\u001b[0m     \u001b[38;5;28;01myield\u001b[39;00m \u001b[38;5;28mself\u001b[39m\n\u001b[0;32m    234\u001b[0m \u001b[38;5;28;01mfinally\u001b[39;00m:\n",
      "File \u001b[1;32m~\\anaconda3\\Lib\\site-packages\\matplotlib\\animation.py:1103\u001b[0m, in \u001b[0;36mAnimation.save\u001b[1;34m(self, filename, writer, fps, dpi, codec, bitrate, extra_args, metadata, extra_anim, savefig_kwargs, progress_callback)\u001b[0m\n\u001b[0;32m   1101\u001b[0m \u001b[38;5;28;01mfor\u001b[39;00m anim, d \u001b[38;5;129;01min\u001b[39;00m \u001b[38;5;28mzip\u001b[39m(all_anim, data):\n\u001b[0;32m   1102\u001b[0m     \u001b[38;5;66;03m# TODO: See if turning off blit is really necessary\u001b[39;00m\n\u001b[1;32m-> 1103\u001b[0m     anim\u001b[38;5;241m.\u001b[39m_draw_next_frame(d, blit\u001b[38;5;241m=\u001b[39m\u001b[38;5;28;01mFalse\u001b[39;00m)\n\u001b[0;32m   1104\u001b[0m     \u001b[38;5;28;01mif\u001b[39;00m progress_callback \u001b[38;5;129;01mis\u001b[39;00m \u001b[38;5;129;01mnot\u001b[39;00m \u001b[38;5;28;01mNone\u001b[39;00m:\n",
      "File \u001b[1;32m~\\anaconda3\\Lib\\site-packages\\matplotlib\\animation.py:1138\u001b[0m, in \u001b[0;36mAnimation._draw_next_frame\u001b[1;34m(self, framedata, blit)\u001b[0m\n\u001b[0;32m   1137\u001b[0m \u001b[38;5;28mself\u001b[39m\u001b[38;5;241m.\u001b[39m_pre_draw(framedata, blit)\n\u001b[1;32m-> 1138\u001b[0m \u001b[38;5;28mself\u001b[39m\u001b[38;5;241m.\u001b[39m_draw_frame(framedata)\n\u001b[0;32m   1139\u001b[0m \u001b[38;5;28mself\u001b[39m\u001b[38;5;241m.\u001b[39m_post_draw(framedata, blit)\n",
      "File \u001b[1;32m~\\anaconda3\\Lib\\site-packages\\matplotlib\\animation.py:1767\u001b[0m, in \u001b[0;36mFuncAnimation._draw_frame\u001b[1;34m(self, framedata)\u001b[0m\n\u001b[0;32m   1765\u001b[0m \u001b[38;5;66;03m# Call the func with framedata and args. If blitting is desired,\u001b[39;00m\n\u001b[0;32m   1766\u001b[0m \u001b[38;5;66;03m# func needs to return a sequence of any artists that were modified.\u001b[39;00m\n\u001b[1;32m-> 1767\u001b[0m \u001b[38;5;28mself\u001b[39m\u001b[38;5;241m.\u001b[39m_drawn_artists \u001b[38;5;241m=\u001b[39m \u001b[38;5;28mself\u001b[39m\u001b[38;5;241m.\u001b[39m_func(framedata, \u001b[38;5;241m*\u001b[39m\u001b[38;5;28mself\u001b[39m\u001b[38;5;241m.\u001b[39m_args)\n\u001b[0;32m   1769\u001b[0m \u001b[38;5;28;01mif\u001b[39;00m \u001b[38;5;28mself\u001b[39m\u001b[38;5;241m.\u001b[39m_blit:\n",
      "Cell \u001b[1;32mIn[1], line 62\u001b[0m, in \u001b[0;36manimate\u001b[1;34m(i)\u001b[0m\n\u001b[0;32m     61\u001b[0m update_positions(particles)\n\u001b[1;32m---> 62\u001b[0m handle_collisions(particles)\n\u001b[0;32m     63\u001b[0m \u001b[38;5;28;01mfor\u001b[39;00m particle_drawing, particle, path \u001b[38;5;129;01min\u001b[39;00m \u001b[38;5;28mzip\u001b[39m(particles_drawing, particles, paths):\n",
      "\u001b[1;31mNameError\u001b[0m: name 'handle_collisions' is not defined",
      "\nDuring handling of the above exception, another exception occurred:\n",
      "\u001b[1;31mIndexError\u001b[0m                                Traceback (most recent call last)",
      "Cell \u001b[1;32mIn[1], line 71\u001b[0m\n\u001b[0;32m     68\u001b[0m anim \u001b[38;5;241m=\u001b[39m FuncAnimation(fig, animate, init_func\u001b[38;5;241m=\u001b[39minit, frames\u001b[38;5;241m=\u001b[39mSTEPS, interval\u001b[38;5;241m=\u001b[39m\u001b[38;5;241m20\u001b[39m, blit\u001b[38;5;241m=\u001b[39m\u001b[38;5;28;01mTrue\u001b[39;00m)\n\u001b[0;32m     70\u001b[0m animation_file_path \u001b[38;5;241m=\u001b[39m \u001b[38;5;124m'\u001b[39m\u001b[38;5;124mparticle_simulation_with_paths3.gif\u001b[39m\u001b[38;5;124m'\u001b[39m\n\u001b[1;32m---> 71\u001b[0m anim\u001b[38;5;241m.\u001b[39msave(animation_file_path, writer\u001b[38;5;241m=\u001b[39mPillowWriter(fps\u001b[38;5;241m=\u001b[39m\u001b[38;5;241m30\u001b[39m))\n\u001b[0;32m     73\u001b[0m \u001b[38;5;66;03m# After the animation is completed, plot the final state and save it as an image\u001b[39;00m\n\u001b[0;32m     74\u001b[0m \u001b[38;5;28;01mdef\u001b[39;00m \u001b[38;5;21msave_final_state\u001b[39m(particles):\n",
      "File \u001b[1;32m~\\anaconda3\\Lib\\site-packages\\matplotlib\\animation.py:1085\u001b[0m, in \u001b[0;36mAnimation.save\u001b[1;34m(self, filename, writer, fps, dpi, codec, bitrate, extra_args, metadata, extra_anim, savefig_kwargs, progress_callback)\u001b[0m\n\u001b[0;32m   1081\u001b[0m savefig_kwargs[\u001b[38;5;124m'\u001b[39m\u001b[38;5;124mtransparent\u001b[39m\u001b[38;5;124m'\u001b[39m] \u001b[38;5;241m=\u001b[39m \u001b[38;5;28;01mFalse\u001b[39;00m   \u001b[38;5;66;03m# just to be safe!\u001b[39;00m\n\u001b[0;32m   1082\u001b[0m \u001b[38;5;66;03m# canvas._is_saving = True makes the draw_event animation-starting\u001b[39;00m\n\u001b[0;32m   1083\u001b[0m \u001b[38;5;66;03m# callback a no-op; canvas.manager = None prevents resizing the GUI\u001b[39;00m\n\u001b[0;32m   1084\u001b[0m \u001b[38;5;66;03m# widget (both are likewise done in savefig()).\u001b[39;00m\n\u001b[1;32m-> 1085\u001b[0m \u001b[38;5;28;01mwith\u001b[39;00m mpl\u001b[38;5;241m.\u001b[39mrc_context({\u001b[38;5;124m'\u001b[39m\u001b[38;5;124msavefig.bbox\u001b[39m\u001b[38;5;124m'\u001b[39m: \u001b[38;5;28;01mNone\u001b[39;00m}), \\\n\u001b[0;32m   1086\u001b[0m      writer\u001b[38;5;241m.\u001b[39msaving(\u001b[38;5;28mself\u001b[39m\u001b[38;5;241m.\u001b[39m_fig, filename, dpi), \\\n\u001b[0;32m   1087\u001b[0m      cbook\u001b[38;5;241m.\u001b[39m_setattr_cm(\u001b[38;5;28mself\u001b[39m\u001b[38;5;241m.\u001b[39m_fig\u001b[38;5;241m.\u001b[39mcanvas,\n\u001b[0;32m   1088\u001b[0m                        _is_saving\u001b[38;5;241m=\u001b[39m\u001b[38;5;28;01mTrue\u001b[39;00m, manager\u001b[38;5;241m=\u001b[39m\u001b[38;5;28;01mNone\u001b[39;00m):\n\u001b[0;32m   1089\u001b[0m     \u001b[38;5;28;01mfor\u001b[39;00m anim \u001b[38;5;129;01min\u001b[39;00m all_anim:\n\u001b[0;32m   1090\u001b[0m         anim\u001b[38;5;241m.\u001b[39m_init_draw()  \u001b[38;5;66;03m# Clear the initial frame\u001b[39;00m\n",
      "File \u001b[1;32m~\\anaconda3\\Lib\\contextlib.py:155\u001b[0m, in \u001b[0;36m_GeneratorContextManager.__exit__\u001b[1;34m(self, typ, value, traceback)\u001b[0m\n\u001b[0;32m    153\u001b[0m     value \u001b[38;5;241m=\u001b[39m typ()\n\u001b[0;32m    154\u001b[0m \u001b[38;5;28;01mtry\u001b[39;00m:\n\u001b[1;32m--> 155\u001b[0m     \u001b[38;5;28mself\u001b[39m\u001b[38;5;241m.\u001b[39mgen\u001b[38;5;241m.\u001b[39mthrow(typ, value, traceback)\n\u001b[0;32m    156\u001b[0m \u001b[38;5;28;01mexcept\u001b[39;00m \u001b[38;5;167;01mStopIteration\u001b[39;00m \u001b[38;5;28;01mas\u001b[39;00m exc:\n\u001b[0;32m    157\u001b[0m     \u001b[38;5;66;03m# Suppress StopIteration *unless* it's the same exception that\u001b[39;00m\n\u001b[0;32m    158\u001b[0m     \u001b[38;5;66;03m# was passed to throw().  This prevents a StopIteration\u001b[39;00m\n\u001b[0;32m    159\u001b[0m     \u001b[38;5;66;03m# raised inside the \"with\" statement from being suppressed.\u001b[39;00m\n\u001b[0;32m    160\u001b[0m     \u001b[38;5;28;01mreturn\u001b[39;00m exc \u001b[38;5;129;01mis\u001b[39;00m \u001b[38;5;129;01mnot\u001b[39;00m value\n",
      "File \u001b[1;32m~\\anaconda3\\Lib\\site-packages\\matplotlib\\animation.py:235\u001b[0m, in \u001b[0;36mAbstractMovieWriter.saving\u001b[1;34m(self, fig, outfile, dpi, *args, **kwargs)\u001b[0m\n\u001b[0;32m    233\u001b[0m     \u001b[38;5;28;01myield\u001b[39;00m \u001b[38;5;28mself\u001b[39m\n\u001b[0;32m    234\u001b[0m \u001b[38;5;28;01mfinally\u001b[39;00m:\n\u001b[1;32m--> 235\u001b[0m     \u001b[38;5;28mself\u001b[39m\u001b[38;5;241m.\u001b[39mfinish()\n",
      "File \u001b[1;32m~\\anaconda3\\Lib\\site-packages\\matplotlib\\animation.py:501\u001b[0m, in \u001b[0;36mPillowWriter.finish\u001b[1;34m(self)\u001b[0m\n\u001b[0;32m    500\u001b[0m \u001b[38;5;28;01mdef\u001b[39;00m \u001b[38;5;21mfinish\u001b[39m(\u001b[38;5;28mself\u001b[39m):\n\u001b[1;32m--> 501\u001b[0m     \u001b[38;5;28mself\u001b[39m\u001b[38;5;241m.\u001b[39m_frames[\u001b[38;5;241m0\u001b[39m]\u001b[38;5;241m.\u001b[39msave(\n\u001b[0;32m    502\u001b[0m         \u001b[38;5;28mself\u001b[39m\u001b[38;5;241m.\u001b[39moutfile, save_all\u001b[38;5;241m=\u001b[39m\u001b[38;5;28;01mTrue\u001b[39;00m, append_images\u001b[38;5;241m=\u001b[39m\u001b[38;5;28mself\u001b[39m\u001b[38;5;241m.\u001b[39m_frames[\u001b[38;5;241m1\u001b[39m:],\n\u001b[0;32m    503\u001b[0m         duration\u001b[38;5;241m=\u001b[39m\u001b[38;5;28mint\u001b[39m(\u001b[38;5;241m1000\u001b[39m \u001b[38;5;241m/\u001b[39m \u001b[38;5;28mself\u001b[39m\u001b[38;5;241m.\u001b[39mfps), loop\u001b[38;5;241m=\u001b[39m\u001b[38;5;241m0\u001b[39m)\n",
      "\u001b[1;31mIndexError\u001b[0m: list index out of range"
     ]
    },
    {
     "data": {
      "image/png": "[encoded data removed]",
      "text/plain": [
       "<Figure size 640x480 with 1 Axes>"
      ]
     },
     "metadata": {},
     "output_type": "display_data"
    }
   ],
   "source": [
    "import numpy as np\n",
    "import matplotlib.pyplot as plt\n",
    "from matplotlib.animation import FuncAnimation, PillowWriter\n",
    "from itertools import combinations\n",
    "import random\n",
    "\n",
    "# Define constants\n",
    "BOX_WIDTH = 100\n",
    "BOX_HEIGHT = 50\n",
    "NUM_PARTICLES = 1\n",
    "PARTICLE_RADIUS = 2  # Define a size for the particles\n",
    "INITIAL_SPEED = 10\n",
    "STEPS = 1200\n",
    "\n",
    "# Modify the Particle class to include a history list\n",
    "class Particle:\n",
    "    def __init__(self, species, x, y, vx, vy):\n",
    "        self.species = species\n",
    "        self.x = x\n",
    "        self.y = y\n",
    "        self.vx = vx\n",
    "        self.vy = vy\n",
    "        self.history = [(x, y)]  # Initialize history with the starting position\n",
    "\n",
    "# Initialize particles with their histories\n",
    "particles = [Particle('A', random.uniform(PARTICLE_RADIUS, BOX_WIDTH - PARTICLE_RADIUS),\n",
    "                      random.uniform(PARTICLE_RADIUS, BOX_HEIGHT - PARTICLE_RADIUS),\n",
    "                      INITIAL_SPEED, INITIAL_SPEED) for _ in range(NUM_PARTICLES)]\n",
    "\n",
    "def update_positions(particles):\n",
    "    for particle in particles:\n",
    "        # Update positions\n",
    "        particle.x += particle.vx\n",
    "        particle.y += particle.vy\n",
    "        # Add the new position to the history\n",
    "        particle.history.append((particle.x, particle.y))\n",
    "        # Bounce off walls\n",
    "        if particle.x > BOX_WIDTH - PARTICLE_RADIUS or particle.x < PARTICLE_RADIUS:\n",
    "            particle.vx *= -1\n",
    "        if particle.y > BOX_HEIGHT - PARTICLE_RADIUS or particle.y < PARTICLE_RADIUS:\n",
    "            particle.vy *= -1\n",
    "\n",
    "fig, ax = plt.subplots()\n",
    "ax.set_xlim(0, BOX_WIDTH)\n",
    "ax.set_ylim(0, BOX_HEIGHT)\n",
    "ax.set_aspect(1)\n",
    "ax.set_xticks([])\n",
    "ax.set_yticks([])\n",
    "species_colors = {'A': 'b'}\n",
    "particles_drawing = [ax.plot([], [], 'o', ms=5, color=species_colors[particle.species])[0] for particle in particles]\n",
    "paths = [ax.plot([], [], color=species_colors[particle.species], linewidth=1)[0] for particle in particles]  # For drawing paths\n",
    "\n",
    "def init():\n",
    "    for particle_drawing in particles_drawing:\n",
    "        particle_drawing.set_data([], [])\n",
    "    for path in paths:\n",
    "        path.set_data([], [])\n",
    "    return particles_drawing + paths\n",
    "\n",
    "def animate(i):\n",
    "    update_positions(particles)\n",
    "    handle_collisions(particles)\n",
    "    for particle_drawing, particle, path in zip(particles_drawing, particles, paths):\n",
    "        particle_drawing.set_data([particle.x], [particle.y])\n",
    "        path.set_data(*zip(*particle.history))  # Unpack positions and set path data\n",
    "    return particles_drawing + paths\n",
    "\n",
    "anim = FuncAnimation(fig, animate, init_func=init, frames=STEPS, interval=20, blit=True)\n",
    "\n",
    "animation_file_path = 'particle_simulation_with_paths3.gif'\n",
    "anim.save(animation_file_path, writer=PillowWriter(fps=30))\n",
    "\n",
    "# After the animation is completed, plot the final state and save it as an image\n",
    "def save_final_state(particles):\n",
    "    fig, ax = plt.subplots()\n",
    "    ax.set_xlim(0, BOX_WIDTH)\n",
    "    ax.set_ylim(0, BOX_HEIGHT)\n",
    "    ax.set_aspect(1)\n",
    "    ax.set_xticks([])  # Remove x-axis labels\n",
    "    ax.set_yticks([])  # Remove y-axis labels\n",
    "    for particle in particles:\n",
    "        ax.plot(particle.x, particle.y, 'o', ms=5, color=species_colors[particle.species])\n",
    "    plt.savefig('final_state_2.png')  # Save the figure to a file\n",
    "\n",
    "# At the end of your script, after the animation has been created\n",
    "save_final_state(particles)\n",
    "    \n",
    "# To display the animation in the Jupyter Notebook\n",
    "from IPython.display import Image\n",
    "Image(url=animation_file_path)"
   ]
  },
  {
   "cell_type": "code",
   "execution_count": null,
   "id": "1e90387b-585b-46de-94b8-5ecfadb51c6a",
   "metadata": {},
   "outputs": [],
   "source": []
  }
 ],
 "metadata": {
  "kernelspec": {
   "display_name": "Python 3 (ipykernel)",
   "language": "python",
   "name": "python3"
  },
  "language_info": {
   "codemirror_mode": {
    "name": "ipython",
    "version": 3
   },
   "file_extension": ".py",
   "mimetype": "text/x-python",
   "name": "python",
   "nbconvert_exporter": "python",
   "pygments_lexer": "ipython3",
   "version": "3.11.5"
  }
 },
 "nbformat": 4,
 "nbformat_minor": 5
}
