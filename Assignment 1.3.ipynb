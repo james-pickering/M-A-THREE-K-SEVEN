{
 "cells": [
  {
   "cell_type": "code",
   "execution_count": 1,
   "id": "a64c5c09-d2a1-42a0-9d9b-6796ba359449",
   "metadata": {
    "tags": []
   },
   "outputs": [
    {
     "name": "stdout",
     "output_type": "stream",
     "text": [
      "100\n"
     ]
    }
   ],
   "source": [
    "import numpy as np\n",
    "\n",
    "def bracelet(int1, int2):\n",
    "    terms = [int1, int2]\n",
    "    for i in range(2,100):\n",
    "        temp = (int1 + int2) % 10\n",
    "        int1 = int2\n",
    "        int2 = temp\n",
    "        if (int1 == terms[0] and int2 == terms[1]):\n",
    "            terms.pop(-1)\n",
    "            break\n",
    "        else:\n",
    "            terms.append(int2)\n",
    "    return np.array(terms)\n",
    "\n",
    "p3 = 0\n",
    "p60 = 0\n",
    "p20 = 0\n",
    "p12 = 0\n",
    "p1 = 1\n",
    "p4 = 0\n",
    "\n",
    "i = 1\n",
    "j = 1\n",
    "for i in range(10):\n",
    "    for j in range(10):\n",
    "        for k in range(0, len(bracelet(i,j))):\n",
    "            if bracelet(i, j)[k-1] == 0 and bracelet(i, j)[k] == 1:\n",
    "                p60 += 1\n",
    "            if bracelet(i, j)[k-1] == 0 and bracelet(i, j)[k] == 5:\n",
    "                p3 += 1\n",
    "            if bracelet(i, j)[k-1] == 0 and bracelet(i, j)[k] == 2:\n",
    "                p20 += 1\n",
    "            if bracelet(i, j)[k-1] == 1 and bracelet(i, j)[k] == 3:\n",
    "                p12 += 1\n",
    "            if bracelet(i, j)[k-1] == 2 and bracelet(i, j)[k] == 6:\n",
    "                p4 += 1\n",
    "print(p3+p60+p20+p12+p1+p4)"
   ]
  }
 ],
 "metadata": {
  "kernelspec": {
   "display_name": "Python 3 (ipykernel)",
   "language": "python",
   "name": "python3"
  },
  "language_info": {
   "codemirror_mode": {
    "name": "ipython",
    "version": 3
   },
   "file_extension": ".py",
   "mimetype": "text/x-python",
   "name": "python",
   "nbconvert_exporter": "python",
   "pygments_lexer": "ipython3",
   "version": "3.11.5"
  }
 },
 "nbformat": 4,
 "nbformat_minor": 5
}
